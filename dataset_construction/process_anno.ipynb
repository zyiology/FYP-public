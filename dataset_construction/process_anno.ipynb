{
 "cells": [
  {
   "cell_type": "code",
   "execution_count": 1,
   "id": "e169d2db-8463-44d9-974f-99fbac4b2683",
   "metadata": {
    "tags": []
   },
   "outputs": [],
   "source": [
    "import pandas as pd\n",
    "import json\n",
    "import numpy as np"
   ]
  },
  {
   "cell_type": "code",
   "execution_count": 2,
   "id": "69c796ba-469a-41f8-afb5-47e2ec9e7000",
   "metadata": {
    "tags": []
   },
   "outputs": [],
   "source": [
    "building_data_csv = 'Building data sampling - Data.csv'\n",
    "bldg_df = pd.read_csv(building_data_csv, header=0)\n",
    "\n",
    "annotations_json = 'mapillary_annotations.json'\n",
    "with open(annotations_json, 'r') as f:\n",
    "    anno_coco = json.load(f)\n",
    "\n",
    "mapping_csv = 'log_mapillary.txt'\n",
    "mapping_df = pd.read_csv(mapping_csv, header=0)"
   ]
  },
  {
   "cell_type": "code",
   "execution_count": 3,
   "id": "6f7f90ee-1918-4a43-be01-0a71c5e19457",
   "metadata": {
    "tags": []
   },
   "outputs": [],
   "source": [
    "attrib_mapping = {\n",
    "    'Building category': 'category',\n",
    "    'Occupancy group': 'occupancy_group',\n",
    "    'Occupancy type': 'occupancy_type',\n",
    "    'Number of floors (excl. basement)': 'no_floors',\n",
    "    'Basement':'basement',\n",
    "    'Material':'material',\n",
    "    'Roof shape':'roof_shape',\n",
    "    'Roof covers':'roof_covers',\n",
    "    'Shutters':'shutters',\n",
    "    'Window area':'window_area'\n",
    "}"
   ]
  },
  {
   "cell_type": "code",
   "execution_count": 4,
   "id": "e1a2ed87-398f-4f1a-baf3-10d3f097a413",
   "metadata": {
    "tags": []
   },
   "outputs": [],
   "source": [
    "# add missing building category attribute to json\n",
    "\n",
    "# for anno in anno_coco['annotations']:\n",
    "#     anno['attributes']['building_category'] = 'Unknown'"
   ]
  },
  {
   "cell_type": "code",
   "execution_count": null,
   "id": "c3615072",
   "metadata": {},
   "outputs": [],
   "source": []
  },
  {
   "cell_type": "code",
   "execution_count": 4,
   "id": "a6496348-db9d-4c46-b08b-e6511e5665b2",
   "metadata": {
    "tags": []
   },
   "outputs": [],
   "source": [
    "# based on mapping data, add the attribute data from csv into COCO annotations\n",
    "\n",
    "for index, (image_id, bbox_id) in mapping_df.iterrows():\n",
    "    # retrieve row from bldg_df based on image_id\n",
    "    attrib_data = bldg_df.iloc[image_id,:]\n",
    "    \n",
    "    # retrieve anno data based on bbox_id\n",
    "    attrib_anno = anno_coco['annotations'][bbox_id-1]['attributes']\n",
    "    \n",
    "    # make the data match the annotation\n",
    "    for data_key, anno_key in attrib_mapping.items():\n",
    "        # print(\"Processing:\", attrib_data.loc[data_key])\n",
    "        if isinstance(attrib_data.loc[data_key], float) and np.isnan(attrib_data.loc[data_key]):\n",
    "            attrib_anno[anno_key] = 0\n",
    "            continue\n",
    "        if anno_key == \"occupancy_group\" and (attrib_data.loc[data_key] != \"Unknown\" or attrib_data.loc[data_key] != \"Other\"):\n",
    "            # example: 'RES: Residential'\n",
    "            \n",
    "            attrib_anno[anno_key] = attrib_data.loc[data_key].split(\":\")[0]\n",
    "        elif anno_key == \"occupancy_type\" and attrib_data.loc[data_key] != \"Unknown\":\n",
    "#             if isinstance(attrib_data.loc[data_key],float):\n",
    "#                 print(\"IM A FLOAT\")\n",
    "                \n",
    "#                 print(np.isnan(attrib_data.loc[data_key]))\n",
    "                \n",
    "#             print(type(attrib_data.loc[data_key]))\n",
    "#             print(isinstance(attrib_data.loc[data_key],float))\n",
    "            \n",
    "            \n",
    "            # example 'RES1: Single Family Home'\n",
    "            attrib_anno[anno_key] = attrib_data.loc[data_key].split(\":\")[0]\n",
    "        else:\n",
    "            attrib_anno[anno_key] = attrib_data.loc[data_key]"
   ]
  },
  {
   "cell_type": "code",
   "execution_count": 5,
   "id": "45d98935",
   "metadata": {
    "tags": []
   },
   "outputs": [],
   "source": [
    "# fix image id in images\n",
    "\n",
    "old_new_id_mapping = {}\n",
    "\n",
    "for image in anno_coco['images']:\n",
    "    # example file_name: image_684.png\n",
    "    old_id = image['id']\n",
    "    new_id = int(image['file_name'].split('_')[1].split('.')[0])\n",
    "    old_new_id_mapping[old_id] = new_id\n",
    "    image['id'] = new_id\n",
    "\n",
    "# fix image_id in annotation\n",
    "\n",
    "for anno in anno_coco['annotations']:\n",
    "    old_id = anno['image_id']\n",
    "    anno['image_id'] = old_new_id_mapping[old_id]"
   ]
  },
  {
   "cell_type": "code",
   "execution_count": 6,
   "id": "e27578d9-0499-4913-b465-3d72a5cb9265",
   "metadata": {
    "tags": []
   },
   "outputs": [],
   "source": [
    "output_annotations = 'mapped_mapillary_1_annotations.json'\n",
    "with open(output_annotations, 'w') as f:\n",
    "    json.dump(anno_coco, f)"
   ]
  },
  {
   "cell_type": "code",
   "execution_count": 17,
   "id": "9e26a412-c7f6-48dd-8742-becac8746afc",
   "metadata": {},
   "outputs": [
    {
     "name": "stdout",
     "output_type": "stream",
     "text": [
      "Data collector                                                      Nirvik\n",
      "Date                                                                   NaN\n",
      "Country                                                          Hong Kong\n",
      "City                                                             Hong Kong\n",
      "Postal code                                                         999077\n",
      "Latitude/Longitude                   22.314619105012405, 114.1881222653414\n",
      "Image link                                                             NaN\n",
      "Source                                                         Google Maps\n",
      "Building category                           Engineered commercial building\n",
      "Occupancy group                                            COM: Commerical\n",
      "Occupancy type                                          COM1: Retail trade\n",
      "Number of floors (excl. basement)                                6 or more\n",
      "Basement                                                                No\n",
      "Material                                                          Concrete\n",
      "Roof shape                                                            Flat\n",
      "Roof covers                                                  Built up roof\n",
      "Shutters                                                                No\n",
      "Window area                                           About 33% of surface\n",
      "Remarks                                                                NaN\n",
      "@                                                                      NaN\n",
      "Name: 705, dtype: object\n"
     ]
    }
   ],
   "source": [
    "print(bldg_df.iloc[705,:])"
   ]
  },
  {
   "cell_type": "code",
   "execution_count": 16,
   "id": "d7274e92-bada-4fc1-8b33-eda17be217d7",
   "metadata": {},
   "outputs": [
    {
     "data": {
      "text/plain": [
       "{'id': 32,\n",
       " 'image_id': 705,\n",
       " 'category_id': 1,\n",
       " 'segmentation': [],\n",
       " 'area': 998549.844,\n",
       " 'bbox': [0.0, 0.0, 823.92, 1211.95],\n",
       " 'iscrowd': 0,\n",
       " 'attributes': {'category': 'Engineered commercial building',\n",
       "  'occupancy_group': 'COM: Commerical',\n",
       "  'occupancy_type': 'COM1: Retail trade',\n",
       "  'no_floors': '6 or more',\n",
       "  'basement': 'No',\n",
       "  'material': 'Concrete',\n",
       "  'roof_shape': 'Flat',\n",
       "  'roof_covers': 'Built up roof',\n",
       "  'shutters': 'No',\n",
       "  'window_area': 'About 33% of surface',\n",
       "  'occluded': False,\n",
       "  'rotation': 0.0}}"
      ]
     },
     "execution_count": 16,
     "metadata": {},
     "output_type": "execute_result"
    }
   ],
   "source": [
    "anno_coco['annotations'][31]"
   ]
  },
  {
   "cell_type": "code",
   "execution_count": 23,
   "id": "5fef6ea4-255a-4753-8cb0-e6818f966f3b",
   "metadata": {},
   "outputs": [],
   "source": [
    "# test=anno_coco['annotations'][3]\n",
    "\n",
    "# test['attributes']['material'] = 'test'"
   ]
  },
  {
   "cell_type": "code",
   "execution_count": 24,
   "id": "5fb50b88-0b1e-416f-bfdf-c83f0d2a1c89",
   "metadata": {},
   "outputs": [
    {
     "data": {
      "text/plain": [
       "{'id': 4,\n",
       " 'image_id': 5,\n",
       " 'category_id': 1,\n",
       " 'segmentation': [],\n",
       " 'area': 1424000.0,\n",
       " 'bbox': [0.0, 0.0, 890.0, 1600.0],\n",
       " 'iscrowd': 0,\n",
       " 'attributes': {'category': 'Unknown',\n",
       "  'occupancy_group': 'Unknown',\n",
       "  'occupancy_type': 'Unknown',\n",
       "  'no_floors': 'Unknown',\n",
       "  'basement': False,\n",
       "  'material': 'test',\n",
       "  'roof_shape': 'Unknown',\n",
       "  'roof_covers': 'Unknown',\n",
       "  'shutters': False,\n",
       "  'window_area': 'Unknown',\n",
       "  'occluded': False,\n",
       "  'rotation': 0.0}}"
      ]
     },
     "execution_count": 24,
     "metadata": {},
     "output_type": "execute_result"
    }
   ],
   "source": [
    "anno_coco['annotations'][3]"
   ]
  },
  {
   "cell_type": "code",
   "execution_count": null,
   "id": "b4dce128-d675-40ad-8ab4-fbeb9944a8bc",
   "metadata": {},
   "outputs": [],
   "source": [
    "# i just need to map annotationID to csvID to transfer attributes!"
   ]
  },
  {
   "cell_type": "code",
   "execution_count": null,
   "id": "0427f92f-2344-47e0-a213-bd2436f9710d",
   "metadata": {},
   "outputs": [],
   "source": []
  }
 ],
 "metadata": {
  "kernelspec": {
   "display_name": "Python 3 (ipykernel)",
   "language": "python",
   "name": "python3"
  },
  "language_info": {
   "codemirror_mode": {
    "name": "ipython",
    "version": 3
   },
   "file_extension": ".py",
   "mimetype": "text/x-python",
   "name": "python",
   "nbconvert_exporter": "python",
   "pygments_lexer": "ipython3",
   "version": "3.11.5"
  }
 },
 "nbformat": 4,
 "nbformat_minor": 5
}
